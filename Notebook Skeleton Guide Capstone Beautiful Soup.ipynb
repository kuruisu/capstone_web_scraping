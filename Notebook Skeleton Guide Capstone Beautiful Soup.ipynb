{
 "cells": [
  {
   "cell_type": "markdown",
   "metadata": {},
   "source": [
    "# Capstone Webscrapping using BeautifulSoup\n",
    "\n",
    "This notebook contains guidances & tasks on the data processing for the application\n",
    "\n",
    "## Background\n",
    "\n",
    "The background for choosing this topic is to get information on movie data released in 2021. The information needed includes movie titles, rating values, meta score, and votes. This scraping method is quite interesting to get various kinds of information from a website for free.\n",
    "\n",
    "## Requesting the Data and Creating a BeautifulSoup\n",
    "\n",
    "Let's begin with requesting the web from the site with `get` method."
   ]
  },
  {
   "cell_type": "code",
   "execution_count": 1,
   "metadata": {
    "ExecuteTime": {
     "end_time": "2020-01-13T05:12:23.275508Z",
     "start_time": "2020-01-13T05:12:20.009898Z"
    }
   },
   "outputs": [],
   "source": [
    "import requests\n",
    "\n",
    "url_get = requests.get('https://www.imdb.com/search/title/?release_date=2021-01-01,2021-12-31')"
   ]
  },
  {
   "cell_type": "markdown",
   "metadata": {},
   "source": [
    "To visualize what exactly you get from the `request.get`, we can use .content so ee what we exactly get, in here i slice it so it won't make our screen full of the html we get from the page. You can delete the slicing if you want to see what we fully get."
   ]
  },
  {
   "cell_type": "code",
   "execution_count": 2,
   "metadata": {
    "ExecuteTime": {
     "end_time": "2020-01-13T05:12:23.290648Z",
     "start_time": "2020-01-13T05:12:23.277650Z"
    }
   },
   "outputs": [
    {
     "data": {
      "text/plain": [
       "b'\\n<!DOCTYPE html>\\n<html\\n    xmlns:og=\"http://ogp.me/ns#\"\\n    xmlns:fb=\"http://www.facebook.com/2008/fbml\">\\n    <head>\\n         \\n\\n        <meta charset=\"utf-8\">\\n\\n\\n\\n\\n        <script type=\"text/javascript\">var IMDbTimer={starttime: new Date().getTime(),pt:\\'java\\'};</script>\\n\\n<script>\\n    if (typeof uet == \\'function\\') {\\n      uet(\"bb\", \"LoadTitle\", {wb: 1});\\n    }\\n</script>\\n  <script>(function(t){ (t.events = t.events || {})[\"csm_head_pre_title\"] = new Date().getTime(); })(IMDbTimer);</script>\\n      '"
      ]
     },
     "execution_count": 2,
     "metadata": {},
     "output_type": "execute_result"
    }
   ],
   "source": [
    "url_get.content[1:500]"
   ]
  },
  {
   "cell_type": "markdown",
   "metadata": {},
   "source": [
    "As we can see we get a very unstructured and complex html, which actually contains the codes needed to show the webpages on your web browser. But we as human still confused what and where we can use that piece of code, so here where we use the beautifulsoup. Beautiful soup class will result a beautifulsoup object. Beautiful Soup transforms a complex HTML document into a complex tree of Python objects. \n",
    "\n",
    "Let's make Beautiful soup object and feel free to explore the object here."
   ]
  },
  {
   "cell_type": "code",
   "execution_count": 3,
   "metadata": {
    "ExecuteTime": {
     "end_time": "2020-01-13T05:12:23.808122Z",
     "start_time": "2020-01-13T05:12:23.292610Z"
    }
   },
   "outputs": [],
   "source": [
    "from bs4 import BeautifulSoup \n",
    "\n",
    "soup = BeautifulSoup(url_get.content,\"html.parser\")"
   ]
  },
  {
   "cell_type": "markdown",
   "metadata": {},
   "source": [
    "## Finding the right key to scrap the data & Extracting the right information"
   ]
  },
  {
   "cell_type": "markdown",
   "metadata": {},
   "source": [
    "Find the key and put the key into the `.find()` Put all the exploring the right key at this cell. Because the key in doing scraping, we must know the right key from the inspect element results from the IMDB website. in this case I use the 'lister list detail sub-list' as the key to `.find()` and store in the variable table\n",
    "\n",
    "to make it easier to read the find results we use the `.prettify()` function and display the first 2000 lines"
   ]
  },
  {
   "cell_type": "code",
   "execution_count": 4,
   "metadata": {
    "ExecuteTime": {
     "end_time": "2020-01-13T05:12:23.878904Z",
     "start_time": "2020-01-13T05:12:23.854974Z"
    }
   },
   "outputs": [
    {
     "name": "stdout",
     "output_type": "stream",
     "text": [
      "div class=\"lister list detail sub-list\">\n",
      " <div class=\"lister-list\">\n",
      "  <div class=\"lister-item mode-advanced\">\n",
      "   <div class=\"lister-top-right\">\n",
      "    <div class=\"ribbonize\" data-caller=\"filmosearch\" data-tconst=\"tt8179402\">\n",
      "    </div>\n",
      "   </div>\n",
      "   <div class=\"lister-item-image float-left\">\n",
      "    <a href=\"/title/tt8179402/\">\n",
      "     <img alt=\"Fate: The Winx Saga\" class=\"loadlate\" data-tconst=\"tt8179402\" height=\"98\" loadlate=\"https://m.media-amazon.com/images/M/MV5BMzEyYzBhODYtZjZlOC00MTM4LWIxMjQtMTRhZjA5ODM4ZWI2XkEyXkFqcGdeQXVyODQwODA1MjY@._V1_UY98_CR5,0,67,98_AL_.jpg\" src=\"https://m.media-amazon.com/images/S/sash/4FyxwxECzL-U1J8.png\" width=\"67\"/>\n",
      "    </a>\n",
      "   </div>\n",
      "   <div class=\"lister-item-content\">\n",
      "    <h3 class=\"lister-item-header\">\n",
      "     <span class=\"lister-item-index unbold text-primary\">\n",
      "      1.\n",
      "     </span>\n",
      "     <a href=\"/title/tt8179402/\">\n",
      "      Fate: The Winx Saga\n",
      "     </a>\n",
      "     <span class=\"lister-item-year text-muted unbold\">\n",
      "      (2021– )\n",
      "     </span>\n",
      "    </h3>\n",
      "    <p class=\"text-muted\">\n",
      "     <span class=\"certificate\">\n",
      "      16+\n",
      "     </span>\n",
      "     <span class=\"ghost\">\n",
      "      |\n",
      "     </span>\n",
      "     <span class=\"genre\">\n",
      "      Action, Adventure, Drama\n",
      "     </span>\n",
      "    </p>\n",
      "    <div class=\"ratings-bar\">\n",
      "     <div class=\"inline-block ratings-imdb-rating\" data-value=\"6.9\" name=\"ir\">\n",
      "      <span class=\"global-sprite rating-star imdb-rating\">\n",
      "      </span>\n",
      "      <strong>\n",
      "       6.9\n",
      "      </strong>\n",
      "     </div>\n",
      "     <div class=\"inline-block ratings-user-rating\">\n",
      "      <span class=\"userRatingValue\" data-tconst=\"tt8179402\" id=\"urv_tt8179402\">\n",
      "       <span class=\"global-sprite rating-star no-rating\">\n",
      "       </span>\n",
      "       <span class=\"rate\" data-no-rating=\"Rate this\" data-value=\"0\" name=\"ur\">\n",
      "        Rate this\n",
      "       </span>\n",
      "      </span>\n",
      "      <div class=\"starBarWidget\" id=\"sb_tt8179402\">\n",
      "       <div class=\"rating rating-list\" data-csrf-token=\"\" data-ga-identifier=\"\" data-starbar-class=\"rating-list\" data-user=\"\" id=\"tt8179402|imdb|6.9|6.9|adv_li_tt||advsearch|title\" itemprop\n"
     ]
    }
   ],
   "source": [
    "table = soup.find('div',attrs={'class':'lister list detail sub-list'})\n",
    "print(table.prettify()[1:2000])"
   ]
  },
  {
   "cell_type": "markdown",
   "metadata": {},
   "source": [
    "Finding row length."
   ]
  },
  {
   "cell_type": "code",
   "execution_count": 5,
   "metadata": {},
   "outputs": [
    {
     "name": "stdout",
     "output_type": "stream",
     "text": [
      "50\n"
     ]
    }
   ],
   "source": [
    "find_row = table.findAll('div',attrs={'class':'lister-item mode-advanced'})\n",
    "row_length = len(find_row)\n",
    "print(row_length)"
   ]
  },
  {
   "cell_type": "markdown",
   "metadata": {},
   "source": [
    "to get the title of the movie, use `.find_all()` in the lister-item-header tag and then find on the tag and store it in the title variable\n",
    "\n",
    "for imdb ratings, use `.find_all()` in the inline-block ratings-imdb-rating tag and then find on the strong tag and store it as a rating variable\n",
    "\n",
    "for metascore, several steps are taken to get the value. first look for the value using `.find_all()` in the ratings-bar tag stored in the imdb_metascore variable then from the imdb_metascore results, search again using `.find()` for the inline-block ratings-metascore tag and stored in the film_metascore variable.\n",
    "then create a metascore variable with a default value of 0 (because not all movies have a metascore value)\n",
    "the next step is to do an if condition on the film_metascore variable if it is not empty it will be filled in from the search results on the metascore tag and the updated metascore value\n",
    "\n",
    "for votes, use the search step in the sort-num_votes-visible tag and store it as a variable value. then the results of the search on the variable value are reused to get the votes value in the nv tag\n",
    "\n",
    "The results of scraping each variable were added in the form of values in the form of an array in accordance with the order and store in the variable temp"
   ]
  },
  {
   "cell_type": "code",
   "execution_count": 6,
   "metadata": {
    "ExecuteTime": {
     "end_time": "2020-01-13T05:12:24.008256Z",
     "start_time": "2020-01-13T05:12:23.980358Z"
    }
   },
   "outputs": [
    {
     "data": {
      "text/plain": [
       "[('Fate: The Winx Saga', '6.9', 0, '44,426'),\n",
       " ('The White Lotus', '7.6', 0, '67,613'),\n",
       " ('Only Murders in the Building', '8.1', 0, '96,264'),\n",
       " ('Abbott Elementary', '8.2', 0, '13,671'),\n",
       " ('The Black Phone', '7.0', '65', '112,739'),\n",
       " ('Resident Alien', '8.1', 0, '39,189'),\n",
       " ('American Horror Stories', '6.2', 0, '20,752'),\n",
       " ('1883', '8.8', 0, '63,161'),\n",
       " ('Reservation Dogs', '8.1', 0, '14,586'),\n",
       " ('Spider-Man: No Way Home', '8.3', '71', '730,185'),\n",
       " ('La scuola cattolica', '5.7', 0, '1,784'),\n",
       " ('Dune: Part One', '8.0', '74', '614,231'),\n",
       " ('Licorice Pizza', '7.2', '90', '105,399'),\n",
       " ('Forsvinningen på Lørenskog', '6.1', 0, '1,045'),\n",
       " ('Dopesick', '8.6', 0, '54,489'),\n",
       " (\"NCIS: Hawai'i\", '6.3', 0, '5,530'),\n",
       " ('Mona Lisa and the Blood Moon', '6.1', '69', '986'),\n",
       " ('The Little Things', '6.3', '54', '99,567'),\n",
       " ('Bloodlands', '6.6', 0, '5,075'),\n",
       " ('Arcane: League of Legends', '9.0', 0, '197,759'),\n",
       " ('Yellowjackets', '7.9', 0, '44,855'),\n",
       " ('The Wheel of Time', '7.1', 0, '102,380'),\n",
       " ('Sing 2', '7.4', '49', '65,759'),\n",
       " ('No Time to Die', '7.3', '68', '390,168'),\n",
       " ('The Matrix Resurrections', '5.7', '63', '243,157'),\n",
       " ('Ojing-eo geim', '8.0', 0, '436,087'),\n",
       " ('Snabba cash', '7.6', 0, '9,264'),\n",
       " ('House of Gucci', '6.6', '59', '129,832'),\n",
       " ('Last Night in Soho', '7.1', '65', '130,277'),\n",
       " ('Hacks', '8.2', 0, '28,709'),\n",
       " ('Ghosts', '7.8', 0, '14,760'),\n",
       " ('Law & Order: Organized Crime', '7.7', 0, '7,076'),\n",
       " ('Ghostbusters: Afterlife', '7.1', '45', '176,238'),\n",
       " ('La Brea', '5.6', 0, '10,233'),\n",
       " ('Pleasure', '6.3', '75', '15,035'),\n",
       " ('Gekijouban Jujutsu Kaisen 0', '7.9', '71', '14,700'),\n",
       " ('Eternals', '6.3', '52', '333,392'),\n",
       " ('Mare of Easttown', '8.4', 0, '152,073'),\n",
       " ('Midnight Mass', '7.7', 0, '111,401'),\n",
       " ('The Book of Boba Fett', '7.3', 0, '144,336'),\n",
       " ('Home Economics', '6.7', 0, '3,990'),\n",
       " ('Shadow and Bone', '7.6', 0, '82,963'),\n",
       " (\"Don't Look Up\", '7.2', '49', '526,425'),\n",
       " ('Loki', '8.2', 0, '306,353'),\n",
       " ('FBI: International', '6.3', 0, '3,886'),\n",
       " ('Spencer', '6.6', '76', '65,996'),\n",
       " ('Sex/Life', '5.4', 0, '21,145'),\n",
       " ('The Last Duel', '7.4', '67', '152,052'),\n",
       " ('Free Guy', '7.1', '62', '361,130'),\n",
       " ('Old', '5.8', '55', '116,831')]"
      ]
     },
     "execution_count": 6,
     "metadata": {},
     "output_type": "execute_result"
    }
   ],
   "source": [
    "temp = [] #initiating a tuple\n",
    "\n",
    "for i in range(0, row_length):\n",
    "\n",
    "    #get the title\n",
    "    title = table.find_all('h3',attrs= {'class': 'lister-item-header'})[i]\n",
    "    title = title.find('a').text\n",
    "    \n",
    "    #get the rating IMDB\n",
    "    rating = table.find_all('div',attrs= {'class': 'inline-block ratings-imdb-rating'})[i]\n",
    "    rating = rating.find('strong').text\n",
    "    \n",
    "    #get the metascore\n",
    "    imdb_metascore = table.find_all('div',attrs= {'class': 'ratings-bar'})\n",
    "    film_metascore = imdb_metascore[i].find('div',attrs= {'class': 'inline-block ratings-metascore'})\n",
    "    metascore = 0\n",
    "                                            \n",
    "    if film_metascore is not None:\n",
    "        \n",
    "        metascore =film_metascore.find('span', attrs ={'class' : 'metascore'}).text.strip()\n",
    "    \n",
    "    #get the votes\n",
    "    value = table.find_all('p', attrs = {'class':'sort-num_votes-visible'})[i]\n",
    "    votes = value.find('span', attrs = {'name': 'nv'}).text\n",
    "\n",
    "    temp.append((title,rating,metascore,votes))\n",
    "    \n",
    "temp "
   ]
  },
  {
   "cell_type": "markdown",
   "metadata": {},
   "source": [
    "## Creating data frame & Data wrangling"
   ]
  },
  {
   "cell_type": "markdown",
   "metadata": {},
   "source": [
    "Put the array into dataframe"
   ]
  },
  {
   "cell_type": "code",
   "execution_count": 7,
   "metadata": {
    "ExecuteTime": {
     "end_time": "2020-01-13T05:12:41.517372Z",
     "start_time": "2020-01-13T05:12:29.130015Z"
    }
   },
   "outputs": [
    {
     "data": {
      "text/html": [
       "<div>\n",
       "<style scoped>\n",
       "    .dataframe tbody tr th:only-of-type {\n",
       "        vertical-align: middle;\n",
       "    }\n",
       "\n",
       "    .dataframe tbody tr th {\n",
       "        vertical-align: top;\n",
       "    }\n",
       "\n",
       "    .dataframe thead th {\n",
       "        text-align: right;\n",
       "    }\n",
       "</style>\n",
       "<table border=\"1\" class=\"dataframe\">\n",
       "  <thead>\n",
       "    <tr style=\"text-align: right;\">\n",
       "      <th></th>\n",
       "      <th>Film_Title</th>\n",
       "      <th>IMDB_Rating</th>\n",
       "      <th>Metascore</th>\n",
       "      <th>Votes</th>\n",
       "    </tr>\n",
       "  </thead>\n",
       "  <tbody>\n",
       "    <tr>\n",
       "      <th>0</th>\n",
       "      <td>Fate: The Winx Saga</td>\n",
       "      <td>6.9</td>\n",
       "      <td>0</td>\n",
       "      <td>44,426</td>\n",
       "    </tr>\n",
       "    <tr>\n",
       "      <th>1</th>\n",
       "      <td>The White Lotus</td>\n",
       "      <td>7.6</td>\n",
       "      <td>0</td>\n",
       "      <td>67,613</td>\n",
       "    </tr>\n",
       "    <tr>\n",
       "      <th>2</th>\n",
       "      <td>Only Murders in the Building</td>\n",
       "      <td>8.1</td>\n",
       "      <td>0</td>\n",
       "      <td>96,264</td>\n",
       "    </tr>\n",
       "    <tr>\n",
       "      <th>3</th>\n",
       "      <td>Abbott Elementary</td>\n",
       "      <td>8.2</td>\n",
       "      <td>0</td>\n",
       "      <td>13,671</td>\n",
       "    </tr>\n",
       "    <tr>\n",
       "      <th>4</th>\n",
       "      <td>The Black Phone</td>\n",
       "      <td>7.0</td>\n",
       "      <td>65</td>\n",
       "      <td>112,739</td>\n",
       "    </tr>\n",
       "  </tbody>\n",
       "</table>\n",
       "</div>"
      ],
      "text/plain": [
       "                     Film_Title IMDB_Rating Metascore    Votes\n",
       "0           Fate: The Winx Saga         6.9         0   44,426\n",
       "1               The White Lotus         7.6         0   67,613\n",
       "2  Only Murders in the Building         8.1         0   96,264\n",
       "3             Abbott Elementary         8.2         0   13,671\n",
       "4               The Black Phone         7.0        65  112,739"
      ]
     },
     "execution_count": 7,
     "metadata": {},
     "output_type": "execute_result"
    }
   ],
   "source": [
    "import pandas as pd\n",
    "\n",
    "imdb = pd.DataFrame(temp, columns = ('Film_Title','IMDB_Rating','Metascore','Votes'))\n",
    "imdb.head()"
   ]
  },
  {
   "cell_type": "markdown",
   "metadata": {},
   "source": [
    "Some data cleansing has been done when scraping by filling in an empty value in the metascore key with a value of 0, then changing the data type in the column that is still an object value. in the votes column there is a comma, in that column it will remove the comma"
   ]
  },
  {
   "cell_type": "code",
   "execution_count": 8,
   "metadata": {},
   "outputs": [
    {
     "name": "stdout",
     "output_type": "stream",
     "text": [
      "<class 'pandas.core.frame.DataFrame'>\n",
      "RangeIndex: 50 entries, 0 to 49\n",
      "Data columns (total 4 columns):\n",
      " #   Column       Non-Null Count  Dtype \n",
      "---  ------       --------------  ----- \n",
      " 0   Film_Title   50 non-null     object\n",
      " 1   IMDB_Rating  50 non-null     object\n",
      " 2   Metascore    50 non-null     object\n",
      " 3   Votes        50 non-null     object\n",
      "dtypes: object(4)\n",
      "memory usage: 1.7+ KB\n"
     ]
    }
   ],
   "source": [
    "imdb.info()"
   ]
  },
  {
   "cell_type": "code",
   "execution_count": 9,
   "metadata": {},
   "outputs": [
    {
     "name": "stdout",
     "output_type": "stream",
     "text": [
      "<class 'pandas.core.frame.DataFrame'>\n",
      "RangeIndex: 50 entries, 0 to 49\n",
      "Data columns (total 4 columns):\n",
      " #   Column       Non-Null Count  Dtype  \n",
      "---  ------       --------------  -----  \n",
      " 0   Film_Title   50 non-null     object \n",
      " 1   IMDB_Rating  50 non-null     float64\n",
      " 2   Metascore    50 non-null     int64  \n",
      " 3   Votes        50 non-null     int64  \n",
      "dtypes: float64(1), int64(2), object(1)\n",
      "memory usage: 1.7+ KB\n"
     ]
    }
   ],
   "source": [
    "imdb['Votes'] = imdb['Votes'].str.replace(\",\",\"\")\n",
    "imdb['Votes'] = imdb['Votes'].astype('int64')\n",
    "imdb['IMDB_Rating'] = imdb['IMDB_Rating'].astype('float64')\n",
    "imdb['Metascore'] = imdb['Metascore'].astype('int64')\n",
    "imdb.info()"
   ]
  },
  {
   "cell_type": "code",
   "execution_count": 10,
   "metadata": {},
   "outputs": [
    {
     "data": {
      "text/html": [
       "<div>\n",
       "<style scoped>\n",
       "    .dataframe tbody tr th:only-of-type {\n",
       "        vertical-align: middle;\n",
       "    }\n",
       "\n",
       "    .dataframe tbody tr th {\n",
       "        vertical-align: top;\n",
       "    }\n",
       "\n",
       "    .dataframe thead th {\n",
       "        text-align: right;\n",
       "    }\n",
       "</style>\n",
       "<table border=\"1\" class=\"dataframe\">\n",
       "  <thead>\n",
       "    <tr style=\"text-align: right;\">\n",
       "      <th></th>\n",
       "      <th>Film_Title</th>\n",
       "      <th>IMDB_Rating</th>\n",
       "      <th>Metascore</th>\n",
       "      <th>Votes</th>\n",
       "    </tr>\n",
       "  </thead>\n",
       "  <tbody>\n",
       "    <tr>\n",
       "      <th>0</th>\n",
       "      <td>Fate: The Winx Saga</td>\n",
       "      <td>6.9</td>\n",
       "      <td>0</td>\n",
       "      <td>44426</td>\n",
       "    </tr>\n",
       "    <tr>\n",
       "      <th>1</th>\n",
       "      <td>The White Lotus</td>\n",
       "      <td>7.6</td>\n",
       "      <td>0</td>\n",
       "      <td>67613</td>\n",
       "    </tr>\n",
       "    <tr>\n",
       "      <th>2</th>\n",
       "      <td>Only Murders in the Building</td>\n",
       "      <td>8.1</td>\n",
       "      <td>0</td>\n",
       "      <td>96264</td>\n",
       "    </tr>\n",
       "    <tr>\n",
       "      <th>3</th>\n",
       "      <td>Abbott Elementary</td>\n",
       "      <td>8.2</td>\n",
       "      <td>0</td>\n",
       "      <td>13671</td>\n",
       "    </tr>\n",
       "    <tr>\n",
       "      <th>4</th>\n",
       "      <td>The Black Phone</td>\n",
       "      <td>7.0</td>\n",
       "      <td>65</td>\n",
       "      <td>112739</td>\n",
       "    </tr>\n",
       "  </tbody>\n",
       "</table>\n",
       "</div>"
      ],
      "text/plain": [
       "                     Film_Title  IMDB_Rating  Metascore   Votes\n",
       "0           Fate: The Winx Saga          6.9          0   44426\n",
       "1               The White Lotus          7.6          0   67613\n",
       "2  Only Murders in the Building          8.1          0   96264\n",
       "3             Abbott Elementary          8.2          0   13671\n",
       "4               The Black Phone          7.0         65  112739"
      ]
     },
     "execution_count": 10,
     "metadata": {},
     "output_type": "execute_result"
    }
   ],
   "source": [
    "imdb.head()"
   ]
  },
  {
   "cell_type": "markdown",
   "metadata": {},
   "source": [
    "For the visualization data, I tried to used the movie title, the value of the normalized metascore and imdb_rating"
   ]
  },
  {
   "cell_type": "markdown",
   "metadata": {},
   "source": [
    "In the section below normalize the IMDB_Rating column by multiplying it by 10 and saving it in a new column with the name n_IMDB_Rating. this is done so that the rating and metascore values can be compared on the same scale when visualized on the plot"
   ]
  },
  {
   "cell_type": "code",
   "execution_count": 11,
   "metadata": {},
   "outputs": [
    {
     "data": {
      "text/html": [
       "<div>\n",
       "<style scoped>\n",
       "    .dataframe tbody tr th:only-of-type {\n",
       "        vertical-align: middle;\n",
       "    }\n",
       "\n",
       "    .dataframe tbody tr th {\n",
       "        vertical-align: top;\n",
       "    }\n",
       "\n",
       "    .dataframe thead th {\n",
       "        text-align: right;\n",
       "    }\n",
       "</style>\n",
       "<table border=\"1\" class=\"dataframe\">\n",
       "  <thead>\n",
       "    <tr style=\"text-align: right;\">\n",
       "      <th></th>\n",
       "      <th>Film_Title</th>\n",
       "      <th>IMDB_Rating</th>\n",
       "      <th>Metascore</th>\n",
       "      <th>Votes</th>\n",
       "      <th>n_IMDB_Rating</th>\n",
       "    </tr>\n",
       "  </thead>\n",
       "  <tbody>\n",
       "    <tr>\n",
       "      <th>0</th>\n",
       "      <td>Fate: The Winx Saga</td>\n",
       "      <td>6.9</td>\n",
       "      <td>0</td>\n",
       "      <td>44426</td>\n",
       "      <td>69.0</td>\n",
       "    </tr>\n",
       "    <tr>\n",
       "      <th>1</th>\n",
       "      <td>The White Lotus</td>\n",
       "      <td>7.6</td>\n",
       "      <td>0</td>\n",
       "      <td>67613</td>\n",
       "      <td>76.0</td>\n",
       "    </tr>\n",
       "    <tr>\n",
       "      <th>2</th>\n",
       "      <td>Only Murders in the Building</td>\n",
       "      <td>8.1</td>\n",
       "      <td>0</td>\n",
       "      <td>96264</td>\n",
       "      <td>81.0</td>\n",
       "    </tr>\n",
       "    <tr>\n",
       "      <th>3</th>\n",
       "      <td>Abbott Elementary</td>\n",
       "      <td>8.2</td>\n",
       "      <td>0</td>\n",
       "      <td>13671</td>\n",
       "      <td>82.0</td>\n",
       "    </tr>\n",
       "    <tr>\n",
       "      <th>4</th>\n",
       "      <td>The Black Phone</td>\n",
       "      <td>7.0</td>\n",
       "      <td>65</td>\n",
       "      <td>112739</td>\n",
       "      <td>70.0</td>\n",
       "    </tr>\n",
       "  </tbody>\n",
       "</table>\n",
       "</div>"
      ],
      "text/plain": [
       "                     Film_Title  IMDB_Rating  Metascore   Votes  n_IMDB_Rating\n",
       "0           Fate: The Winx Saga          6.9          0   44426           69.0\n",
       "1               The White Lotus          7.6          0   67613           76.0\n",
       "2  Only Murders in the Building          8.1          0   96264           81.0\n",
       "3             Abbott Elementary          8.2          0   13671           82.0\n",
       "4               The Black Phone          7.0         65  112739           70.0"
      ]
     },
     "execution_count": 11,
     "metadata": {},
     "output_type": "execute_result"
    }
   ],
   "source": [
    "imdb['n_IMDB_Rating'] = imdb['IMDB_Rating']*10\n",
    "imdb.head()"
   ]
  },
  {
   "cell_type": "code",
   "execution_count": 12,
   "metadata": {},
   "outputs": [
    {
     "data": {
      "text/html": [
       "<div>\n",
       "<style scoped>\n",
       "    .dataframe tbody tr th:only-of-type {\n",
       "        vertical-align: middle;\n",
       "    }\n",
       "\n",
       "    .dataframe tbody tr th {\n",
       "        vertical-align: top;\n",
       "    }\n",
       "\n",
       "    .dataframe thead th {\n",
       "        text-align: right;\n",
       "    }\n",
       "</style>\n",
       "<table border=\"1\" class=\"dataframe\">\n",
       "  <thead>\n",
       "    <tr style=\"text-align: right;\">\n",
       "      <th></th>\n",
       "      <th>Film_Title</th>\n",
       "      <th>IMDB_Rating</th>\n",
       "      <th>Metascore</th>\n",
       "      <th>Votes</th>\n",
       "      <th>n_IMDB_Rating</th>\n",
       "    </tr>\n",
       "  </thead>\n",
       "  <tbody>\n",
       "    <tr>\n",
       "      <th>4</th>\n",
       "      <td>The Black Phone</td>\n",
       "      <td>7.0</td>\n",
       "      <td>65</td>\n",
       "      <td>112739</td>\n",
       "      <td>70.0</td>\n",
       "    </tr>\n",
       "    <tr>\n",
       "      <th>9</th>\n",
       "      <td>Spider-Man: No Way Home</td>\n",
       "      <td>8.3</td>\n",
       "      <td>71</td>\n",
       "      <td>730185</td>\n",
       "      <td>83.0</td>\n",
       "    </tr>\n",
       "    <tr>\n",
       "      <th>11</th>\n",
       "      <td>Dune: Part One</td>\n",
       "      <td>8.0</td>\n",
       "      <td>74</td>\n",
       "      <td>614231</td>\n",
       "      <td>80.0</td>\n",
       "    </tr>\n",
       "    <tr>\n",
       "      <th>12</th>\n",
       "      <td>Licorice Pizza</td>\n",
       "      <td>7.2</td>\n",
       "      <td>90</td>\n",
       "      <td>105399</td>\n",
       "      <td>72.0</td>\n",
       "    </tr>\n",
       "    <tr>\n",
       "      <th>16</th>\n",
       "      <td>Mona Lisa and the Blood Moon</td>\n",
       "      <td>6.1</td>\n",
       "      <td>69</td>\n",
       "      <td>986</td>\n",
       "      <td>61.0</td>\n",
       "    </tr>\n",
       "  </tbody>\n",
       "</table>\n",
       "</div>"
      ],
      "text/plain": [
       "                      Film_Title  IMDB_Rating  Metascore   Votes  \\\n",
       "4                The Black Phone          7.0         65  112739   \n",
       "9        Spider-Man: No Way Home          8.3         71  730185   \n",
       "11                Dune: Part One          8.0         74  614231   \n",
       "12                Licorice Pizza          7.2         90  105399   \n",
       "16  Mona Lisa and the Blood Moon          6.1         69     986   \n",
       "\n",
       "    n_IMDB_Rating  \n",
       "4            70.0  \n",
       "9            83.0  \n",
       "11           80.0  \n",
       "12           72.0  \n",
       "16           61.0  "
      ]
     },
     "execution_count": 12,
     "metadata": {},
     "output_type": "execute_result"
    }
   ],
   "source": [
    "imdb[((imdb['Metascore']!=0) & (imdb['n_IMDB_Rating']!=0))].head()"
   ]
  },
  {
   "cell_type": "code",
   "execution_count": 13,
   "metadata": {},
   "outputs": [],
   "source": [
    "imdb_ratingXmeta = imdb[((imdb['Metascore']!=0) & (imdb['n_IMDB_Rating']!=0))].loc[:,['Film_Title','Metascore','n_IMDB_Rating']]"
   ]
  },
  {
   "cell_type": "code",
   "execution_count": 14,
   "metadata": {},
   "outputs": [
    {
     "data": {
      "text/html": [
       "<div>\n",
       "<style scoped>\n",
       "    .dataframe tbody tr th:only-of-type {\n",
       "        vertical-align: middle;\n",
       "    }\n",
       "\n",
       "    .dataframe tbody tr th {\n",
       "        vertical-align: top;\n",
       "    }\n",
       "\n",
       "    .dataframe thead th {\n",
       "        text-align: right;\n",
       "    }\n",
       "</style>\n",
       "<table border=\"1\" class=\"dataframe\">\n",
       "  <thead>\n",
       "    <tr style=\"text-align: right;\">\n",
       "      <th></th>\n",
       "      <th>Film_Title</th>\n",
       "      <th>Metascore</th>\n",
       "      <th>n_IMDB_Rating</th>\n",
       "    </tr>\n",
       "  </thead>\n",
       "  <tbody>\n",
       "    <tr>\n",
       "      <th>4</th>\n",
       "      <td>The Black Phone</td>\n",
       "      <td>65</td>\n",
       "      <td>70.0</td>\n",
       "    </tr>\n",
       "    <tr>\n",
       "      <th>9</th>\n",
       "      <td>Spider-Man: No Way Home</td>\n",
       "      <td>71</td>\n",
       "      <td>83.0</td>\n",
       "    </tr>\n",
       "    <tr>\n",
       "      <th>11</th>\n",
       "      <td>Dune: Part One</td>\n",
       "      <td>74</td>\n",
       "      <td>80.0</td>\n",
       "    </tr>\n",
       "    <tr>\n",
       "      <th>12</th>\n",
       "      <td>Licorice Pizza</td>\n",
       "      <td>90</td>\n",
       "      <td>72.0</td>\n",
       "    </tr>\n",
       "    <tr>\n",
       "      <th>16</th>\n",
       "      <td>Mona Lisa and the Blood Moon</td>\n",
       "      <td>69</td>\n",
       "      <td>61.0</td>\n",
       "    </tr>\n",
       "    <tr>\n",
       "      <th>17</th>\n",
       "      <td>The Little Things</td>\n",
       "      <td>54</td>\n",
       "      <td>63.0</td>\n",
       "    </tr>\n",
       "    <tr>\n",
       "      <th>22</th>\n",
       "      <td>Sing 2</td>\n",
       "      <td>49</td>\n",
       "      <td>74.0</td>\n",
       "    </tr>\n",
       "    <tr>\n",
       "      <th>23</th>\n",
       "      <td>No Time to Die</td>\n",
       "      <td>68</td>\n",
       "      <td>73.0</td>\n",
       "    </tr>\n",
       "    <tr>\n",
       "      <th>24</th>\n",
       "      <td>The Matrix Resurrections</td>\n",
       "      <td>63</td>\n",
       "      <td>57.0</td>\n",
       "    </tr>\n",
       "    <tr>\n",
       "      <th>27</th>\n",
       "      <td>House of Gucci</td>\n",
       "      <td>59</td>\n",
       "      <td>66.0</td>\n",
       "    </tr>\n",
       "    <tr>\n",
       "      <th>28</th>\n",
       "      <td>Last Night in Soho</td>\n",
       "      <td>65</td>\n",
       "      <td>71.0</td>\n",
       "    </tr>\n",
       "    <tr>\n",
       "      <th>32</th>\n",
       "      <td>Ghostbusters: Afterlife</td>\n",
       "      <td>45</td>\n",
       "      <td>71.0</td>\n",
       "    </tr>\n",
       "    <tr>\n",
       "      <th>34</th>\n",
       "      <td>Pleasure</td>\n",
       "      <td>75</td>\n",
       "      <td>63.0</td>\n",
       "    </tr>\n",
       "    <tr>\n",
       "      <th>35</th>\n",
       "      <td>Gekijouban Jujutsu Kaisen 0</td>\n",
       "      <td>71</td>\n",
       "      <td>79.0</td>\n",
       "    </tr>\n",
       "    <tr>\n",
       "      <th>36</th>\n",
       "      <td>Eternals</td>\n",
       "      <td>52</td>\n",
       "      <td>63.0</td>\n",
       "    </tr>\n",
       "    <tr>\n",
       "      <th>42</th>\n",
       "      <td>Don't Look Up</td>\n",
       "      <td>49</td>\n",
       "      <td>72.0</td>\n",
       "    </tr>\n",
       "    <tr>\n",
       "      <th>45</th>\n",
       "      <td>Spencer</td>\n",
       "      <td>76</td>\n",
       "      <td>66.0</td>\n",
       "    </tr>\n",
       "    <tr>\n",
       "      <th>47</th>\n",
       "      <td>The Last Duel</td>\n",
       "      <td>67</td>\n",
       "      <td>74.0</td>\n",
       "    </tr>\n",
       "    <tr>\n",
       "      <th>48</th>\n",
       "      <td>Free Guy</td>\n",
       "      <td>62</td>\n",
       "      <td>71.0</td>\n",
       "    </tr>\n",
       "    <tr>\n",
       "      <th>49</th>\n",
       "      <td>Old</td>\n",
       "      <td>55</td>\n",
       "      <td>58.0</td>\n",
       "    </tr>\n",
       "  </tbody>\n",
       "</table>\n",
       "</div>"
      ],
      "text/plain": [
       "                      Film_Title  Metascore  n_IMDB_Rating\n",
       "4                The Black Phone         65           70.0\n",
       "9        Spider-Man: No Way Home         71           83.0\n",
       "11                Dune: Part One         74           80.0\n",
       "12                Licorice Pizza         90           72.0\n",
       "16  Mona Lisa and the Blood Moon         69           61.0\n",
       "17             The Little Things         54           63.0\n",
       "22                        Sing 2         49           74.0\n",
       "23                No Time to Die         68           73.0\n",
       "24      The Matrix Resurrections         63           57.0\n",
       "27                House of Gucci         59           66.0\n",
       "28            Last Night in Soho         65           71.0\n",
       "32       Ghostbusters: Afterlife         45           71.0\n",
       "34                      Pleasure         75           63.0\n",
       "35   Gekijouban Jujutsu Kaisen 0         71           79.0\n",
       "36                      Eternals         52           63.0\n",
       "42                 Don't Look Up         49           72.0\n",
       "45                       Spencer         76           66.0\n",
       "47                 The Last Duel         67           74.0\n",
       "48                      Free Guy         62           71.0\n",
       "49                           Old         55           58.0"
      ]
     },
     "execution_count": 14,
     "metadata": {},
     "output_type": "execute_result"
    }
   ],
   "source": [
    "imdb_ratingXmeta"
   ]
  },
  {
   "cell_type": "code",
   "execution_count": 15,
   "metadata": {},
   "outputs": [],
   "source": [
    "imdb_ratingXmetascore = imdb_ratingXmeta.set_index('Film_Title')"
   ]
  },
  {
   "cell_type": "code",
   "execution_count": 16,
   "metadata": {},
   "outputs": [
    {
     "data": {
      "text/html": [
       "<div>\n",
       "<style scoped>\n",
       "    .dataframe tbody tr th:only-of-type {\n",
       "        vertical-align: middle;\n",
       "    }\n",
       "\n",
       "    .dataframe tbody tr th {\n",
       "        vertical-align: top;\n",
       "    }\n",
       "\n",
       "    .dataframe thead th {\n",
       "        text-align: right;\n",
       "    }\n",
       "</style>\n",
       "<table border=\"1\" class=\"dataframe\">\n",
       "  <thead>\n",
       "    <tr style=\"text-align: right;\">\n",
       "      <th></th>\n",
       "      <th>Metascore</th>\n",
       "      <th>n_IMDB_Rating</th>\n",
       "    </tr>\n",
       "    <tr>\n",
       "      <th>Film_Title</th>\n",
       "      <th></th>\n",
       "      <th></th>\n",
       "    </tr>\n",
       "  </thead>\n",
       "  <tbody>\n",
       "    <tr>\n",
       "      <th>The Black Phone</th>\n",
       "      <td>65</td>\n",
       "      <td>70.0</td>\n",
       "    </tr>\n",
       "    <tr>\n",
       "      <th>Spider-Man: No Way Home</th>\n",
       "      <td>71</td>\n",
       "      <td>83.0</td>\n",
       "    </tr>\n",
       "    <tr>\n",
       "      <th>Dune: Part One</th>\n",
       "      <td>74</td>\n",
       "      <td>80.0</td>\n",
       "    </tr>\n",
       "    <tr>\n",
       "      <th>Licorice Pizza</th>\n",
       "      <td>90</td>\n",
       "      <td>72.0</td>\n",
       "    </tr>\n",
       "    <tr>\n",
       "      <th>Mona Lisa and the Blood Moon</th>\n",
       "      <td>69</td>\n",
       "      <td>61.0</td>\n",
       "    </tr>\n",
       "  </tbody>\n",
       "</table>\n",
       "</div>"
      ],
      "text/plain": [
       "                              Metascore  n_IMDB_Rating\n",
       "Film_Title                                            \n",
       "The Black Phone                      65           70.0\n",
       "Spider-Man: No Way Home              71           83.0\n",
       "Dune: Part One                       74           80.0\n",
       "Licorice Pizza                       90           72.0\n",
       "Mona Lisa and the Blood Moon         69           61.0"
      ]
     },
     "execution_count": 16,
     "metadata": {},
     "output_type": "execute_result"
    }
   ],
   "source": [
    "imdb_ratingXmetascore.head()"
   ]
  },
  {
   "cell_type": "code",
   "execution_count": 17,
   "metadata": {},
   "outputs": [
    {
     "data": {
      "text/plain": [
       "69.35"
      ]
     },
     "execution_count": 17,
     "metadata": {},
     "output_type": "execute_result"
    }
   ],
   "source": [
    "imdb_ratingXmetascore['n_IMDB_Rating'].mean().round(2)"
   ]
  },
  {
   "cell_type": "code",
   "execution_count": 18,
   "metadata": {},
   "outputs": [
    {
     "data": {
      "text/plain": [
       "<AxesSubplot:xlabel='Film_Title'>"
      ]
     },
     "execution_count": 18,
     "metadata": {},
     "output_type": "execute_result"
    },
    {
     "data": {
      "image/png": "[encoded data removed]",
      "text/plain": [
       "<Figure size 432x288 with 1 Axes>"
      ]
     },
     "metadata": {
      "needs_background": "light"
     },
     "output_type": "display_data"
    }
   ],
   "source": [
    "imdb_ratingXmetascore.plot()"
   ]
  },
  {
   "cell_type": "markdown",
   "metadata": {},
   "source": [
    "### Implementing your webscrapping to the flask dashboard\n",
    "\n",
    "- Copy paste all of your web scrapping process to the desired position on the `app.py`\n",
    "- Changing the title of the dasboard at `index.html`"
   ]
  },
  {
   "cell_type": "markdown",
   "metadata": {},
   "source": [
    "## Finishing This Notebook with Your Analysis and Conclusion\n",
    "\n",
    "First you can do start with making the data visualisation. "
   ]
  },
  {
   "cell_type": "code",
   "execution_count": 19,
   "metadata": {
    "ExecuteTime": {
     "end_time": "2020-01-13T05:20:56.208237Z",
     "start_time": "2020-01-13T05:20:56.076043Z"
    }
   },
   "outputs": [
    {
     "data": {
      "text/plain": [
       "<AxesSubplot:title={'center':'50 Films Release in 2021 by Rating X Metascore'}, ylabel='Frequency'>"
      ]
     },
     "execution_count": 19,
     "metadata": {},
     "output_type": "execute_result"
    },
    {
     "data": {
      "image/png": "[encoded data removed]",
      "text/plain": [
       "<Figure size 432x288 with 1 Axes>"
      ]
     },
     "metadata": {
      "needs_background": "light"
     },
     "output_type": "display_data"
    }
   ],
   "source": [
    "imdb_ratingXmetascore.plot.hist(title = '50 Films Release in 2021 by Rating X Metascore')"
   ]
  },
  {
   "cell_type": "markdown",
   "metadata": {},
   "source": [
    "We have just finished discussing the scraping film data released in 2021 from the url https://www.imdb.com/search/title/?release_date=2021-01-01,2021-12-31 and the results of the scraping are collected data as much as 50 lines of information.\n",
    "\n",
    "In doing scraping there are obstacles found such as incomplete information in a film, such as key metascore. therefore we have to set a default value of 0 for each movie that does not have a metascore value. after the scraping process is complete, then there is a process of saving the scraping data into the dataframe.\n",
    "\n",
    "when we already have data in the form of a data frame, the next step we can do is perform data cleansing and data wrangling. for example, changing the data type which should be float or int, removing the coma on the value contained in the votes column, normalizing the IMDB_Rating column by multiplying by 10 and storing it in a new column called n_IMDB_Rating. This is done so that the scale of the metascore and rating is the same and can be compared. for the data wrangling process, the process of checking / retrieval of values ​​on the metascore and n_IMDB_Rating and must contain the value and then stored in a new dataframe named imdb_ratingXmetascore.\n",
    "\n",
    "for visualization using a histogram plot to see how much frequency each metascore value and n_IMDB_Rating are and it can be seen that the range of values ​​from 65 to 75 is the value that appears the most from a film, it can be concluded that films with rating values ​​and metascores greater than 75 are not so much (possibly in 2021 a bit of a good movie)."
   ]
  },
  {
   "cell_type": "markdown",
   "metadata": {},
   "source": [
    "### Extra Challange\n",
    "\n",
    "This will be not included to the scoring. \n",
    "\n",
    "- You can create additional analysis from the data.\n",
    "- Implement it to the dashboard with at `app.py` dan `index.html`."
   ]
  }
 ],
 "metadata": {
  "kernelspec": {
   "display_name": "capstone",
   "language": "python",
   "name": "capstone"
  },
  "language_info": {
   "codemirror_mode": {
    "name": "ipython",
    "version": 3
   },
   "file_extension": ".py",
   "mimetype": "text/x-python",
   "name": "python",
   "nbconvert_exporter": "python",
   "pygments_lexer": "ipython3",
   "version": "3.8.13"
  }
 },
 "nbformat": 4,
 "nbformat_minor": 2
}
